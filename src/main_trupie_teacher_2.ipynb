{
 "cells": [
  {
   "cell_type": "code",
   "execution_count": 1,
   "metadata": {},
   "outputs": [
    {
     "name": "stdout",
     "output_type": "stream",
     "text": [
      "第 1 轮规则挖掘开始\n",
      "第 1 轮规则挖掘结束，耗时： 0.18 秒，挖掘出 111 条规则\n",
      "第 1 轮规则标注开始\n",
      "第 1 轮规则标注结束，正规则 65 条，负规则 43 条，耗时 8.23 秒\n",
      "第 1 轮硬匹配开始\n",
      "第 1 轮硬匹配结束，耗时 3.00 秒，硬匹配数量 2079 条，正例 851 条，负例 1228 条\n",
      "第 1 轮验证开始\n"
     ]
    },
    {
     "name": "stderr",
     "output_type": "stream",
     "text": [
      "/home/XuHaoshuai/miniconda3/envs/humanie_ipm/lib/python3.9/site-packages/pandas/core/indexing.py:1667: SettingWithCopyWarning: \n",
      "A value is trying to be set on a copy of a slice from a DataFrame.\n",
      "Try using .loc[row_indexer,col_indexer] = value instead\n",
      "\n",
      "See the caveats in the documentation: https://pandas.pydata.org/pandas-docs/stable/user_guide/indexing.html#returning-a-view-versus-a-copy\n",
      "  self.obj[key] = value\n"
     ]
    },
    {
     "name": "stdout",
     "output_type": "stream",
     "text": [
      "第 1 轮验证结束，耗时 1.750596669 秒\n",
      "第 1 轮合并标注句子开始\n",
      "第 1 轮合并标注句子结束，耗时 0.04 秒\n",
      "第 1 轮规则最终标签标注开始\n",
      "第 1 轮规则最终标签标注结束，耗时 89.70 秒\n",
      "----------- 第 1 轮挖掘用时 102.725957869 秒 ----------- \n",
      "第 2 轮规则挖掘开始\n",
      "第 2 轮规则挖掘结束，耗时： 0.48 秒，挖掘出 165 条规则\n",
      "第 2 轮删除了 98 条规则 \n",
      "第 2 轮规则标注开始\n",
      "第 2 轮规则标注结束，正规则 41 条，负规则 26 条，耗时 9.90 秒\n",
      "第 2 轮硬匹配开始\n",
      "第 2 轮硬匹配结束，耗时 0.74 秒，硬匹配数量 129 条，正例 71 条，负例 58 条\n",
      "第 2 轮验证开始\n"
     ]
    },
    {
     "name": "stderr",
     "output_type": "stream",
     "text": [
      "/home/XuHaoshuai/miniconda3/envs/humanie_ipm/lib/python3.9/site-packages/pandas/core/indexing.py:1667: SettingWithCopyWarning: \n",
      "A value is trying to be set on a copy of a slice from a DataFrame.\n",
      "Try using .loc[row_indexer,col_indexer] = value instead\n",
      "\n",
      "See the caveats in the documentation: https://pandas.pydata.org/pandas-docs/stable/user_guide/indexing.html#returning-a-view-versus-a-copy\n",
      "  self.obj[key] = value\n"
     ]
    },
    {
     "name": "stdout",
     "output_type": "stream",
     "text": [
      "第 2 轮验证结束，耗时 1.720244925000003 秒\n",
      "第 2 轮合并标注句子开始\n",
      "第 2 轮合并标注句子结束，耗时 0.04 秒\n",
      "第 2 轮规则最终标签标注开始\n",
      "第 2 轮规则最终标签标注结束，耗时 53.46 秒\n",
      "----------- 第 2 轮挖掘用时 66.30358511899999 秒 ----------- \n",
      "第 3 轮规则挖掘开始\n",
      "第 3 轮规则挖掘结束，耗时： 0.53 秒，挖掘出 234 条规则\n",
      "第 3 轮删除了 168 条规则 \n",
      "第 3 轮规则标注开始\n",
      "第 3 轮规则标注结束，正规则 64 条，负规则 2 条，耗时 9.94 秒\n",
      "第 3 轮硬匹配开始\n",
      "第 3 轮硬匹配结束，耗时 0.66 秒，硬匹配数量 56 条，正例 11 条，负例 45 条\n",
      "第 3 轮验证开始\n"
     ]
    },
    {
     "name": "stderr",
     "output_type": "stream",
     "text": [
      "/home/XuHaoshuai/miniconda3/envs/humanie_ipm/lib/python3.9/site-packages/pandas/core/indexing.py:1667: SettingWithCopyWarning: \n",
      "A value is trying to be set on a copy of a slice from a DataFrame.\n",
      "Try using .loc[row_indexer,col_indexer] = value instead\n",
      "\n",
      "See the caveats in the documentation: https://pandas.pydata.org/pandas-docs/stable/user_guide/indexing.html#returning-a-view-versus-a-copy\n",
      "  self.obj[key] = value\n"
     ]
    },
    {
     "name": "stdout",
     "output_type": "stream",
     "text": [
      "第 3 轮验证结束，耗时 1.7088179909999894 秒\n",
      "第 3 轮合并标注句子开始\n",
      "第 3 轮合并标注句子结束，耗时 0.04 秒\n",
      "第 3 轮规则最终标签标注开始\n",
      "第 3 轮规则最终标签标注结束，耗时 59.01 秒\n",
      "----------- 第 3 轮挖掘用时 71.87436583300001 秒 ----------- \n",
      "第 4 轮规则挖掘开始\n",
      "第 4 轮规则挖掘结束，耗时： 0.51 秒，挖掘出 330 条规则\n",
      "第 4 轮删除了 237 条规则 \n",
      "第 4 轮规则标注开始\n",
      "第 4 轮规则标注结束，正规则 54 条，负规则 37 条，耗时 13.91 秒\n",
      "第 4 轮硬匹配开始\n",
      "第 4 轮硬匹配结束，耗时 0.84 秒，硬匹配数量 97 条，正例 34 条，负例 63 条\n",
      "第 4 轮验证开始\n"
     ]
    },
    {
     "name": "stderr",
     "output_type": "stream",
     "text": [
      "/home/XuHaoshuai/miniconda3/envs/humanie_ipm/lib/python3.9/site-packages/pandas/core/indexing.py:1667: SettingWithCopyWarning: \n",
      "A value is trying to be set on a copy of a slice from a DataFrame.\n",
      "Try using .loc[row_indexer,col_indexer] = value instead\n",
      "\n",
      "See the caveats in the documentation: https://pandas.pydata.org/pandas-docs/stable/user_guide/indexing.html#returning-a-view-versus-a-copy\n",
      "  self.obj[key] = value\n"
     ]
    },
    {
     "name": "stdout",
     "output_type": "stream",
     "text": [
      "第 4 轮验证结束，耗时 1.775372358000027 秒\n",
      "第 4 轮合并标注句子开始\n",
      "第 4 轮合并标注句子结束，耗时 0.04 秒\n",
      "第 4 轮规则最终标签标注开始\n",
      "第 4 轮规则最终标签标注结束，耗时 78.51 秒\n",
      "----------- 第 4 轮挖掘用时 95.58139758400003 秒 ----------- \n",
      "第 5 轮规则挖掘开始\n",
      "第 5 轮规则挖掘结束，耗时： 0.60 秒，挖掘出 407 条规则\n",
      "第 5 轮删除了 333 条规则 \n",
      "第 5 轮规则标注开始\n",
      "第 5 轮规则标注结束，正规则 64 条，负规则 9 条，耗时 11.37 秒\n",
      "第 5 轮硬匹配开始\n",
      "第 5 轮硬匹配结束，耗时 0.62 秒，硬匹配数量 62 条，正例 42 条，负例 20 条\n",
      "第 5 轮验证开始\n"
     ]
    },
    {
     "name": "stderr",
     "output_type": "stream",
     "text": [
      "/home/XuHaoshuai/miniconda3/envs/humanie_ipm/lib/python3.9/site-packages/pandas/core/indexing.py:1667: SettingWithCopyWarning: \n",
      "A value is trying to be set on a copy of a slice from a DataFrame.\n",
      "Try using .loc[row_indexer,col_indexer] = value instead\n",
      "\n",
      "See the caveats in the documentation: https://pandas.pydata.org/pandas-docs/stable/user_guide/indexing.html#returning-a-view-versus-a-copy\n",
      "  self.obj[key] = value\n"
     ]
    },
    {
     "name": "stdout",
     "output_type": "stream",
     "text": [
      "第 5 轮验证结束，耗时 1.8098122669999839 秒\n",
      "第 5 轮合并标注句子开始\n",
      "第 5 轮合并标注句子结束，耗时 0.04 秒\n",
      "第 5 轮规则最终标签标注开始\n",
      "第 5 轮规则最终标签标注结束，耗时 64.29 秒\n",
      "----------- 第 5 轮挖掘用时 78.767347062 秒 ----------- \n",
      "第 6 轮规则挖掘开始\n",
      "第 6 轮规则挖掘结束，耗时： 0.66 秒，挖掘出 511 条规则\n",
      "第 6 轮删除了 410 条规则 \n",
      "第 6 轮规则标注开始\n",
      "第 6 轮规则标注结束，正规则 89 条，负规则 11 条，耗时 15.41 秒\n",
      "第 6 轮硬匹配开始\n",
      "第 6 轮硬匹配结束，耗时 0.75 秒，硬匹配数量 66 条，正例 39 条，负例 27 条\n",
      "第 6 轮验证开始\n"
     ]
    },
    {
     "name": "stderr",
     "output_type": "stream",
     "text": [
      "/home/XuHaoshuai/miniconda3/envs/humanie_ipm/lib/python3.9/site-packages/pandas/core/indexing.py:1667: SettingWithCopyWarning: \n",
      "A value is trying to be set on a copy of a slice from a DataFrame.\n",
      "Try using .loc[row_indexer,col_indexer] = value instead\n",
      "\n",
      "See the caveats in the documentation: https://pandas.pydata.org/pandas-docs/stable/user_guide/indexing.html#returning-a-view-versus-a-copy\n",
      "  self.obj[key] = value\n"
     ]
    },
    {
     "name": "stdout",
     "output_type": "stream",
     "text": [
      "第 6 轮验证结束，耗时 1.7604335240000069 秒\n",
      "第 6 轮合并标注句子开始\n",
      "第 6 轮合并标注句子结束，耗时 0.04 秒\n",
      "第 6 轮规则最终标签标注开始\n",
      "第 6 轮规则最终标签标注结束，耗时 89.72 秒\n",
      "----------- 第 6 轮挖掘用时 108.34879174000002 秒 ----------- \n",
      "第 7 轮规则挖掘开始\n",
      "第 7 轮规则挖掘结束，耗时： 0.58 秒，挖掘出 570 条规则\n",
      "第 7 轮删除了 511 条规则 \n",
      "第 7 轮规则标注开始\n",
      "第 7 轮规则标注结束，正规则 57 条，负规则 2 条，耗时 9.17 秒\n",
      "第 7 轮硬匹配开始\n",
      "第 7 轮硬匹配结束，耗时 0.44 秒，硬匹配数量 12 条，正例 3 条，负例 9 条\n",
      "第 7 轮验证开始\n"
     ]
    },
    {
     "name": "stderr",
     "output_type": "stream",
     "text": [
      "/home/XuHaoshuai/miniconda3/envs/humanie_ipm/lib/python3.9/site-packages/pandas/core/indexing.py:1667: SettingWithCopyWarning: \n",
      "A value is trying to be set on a copy of a slice from a DataFrame.\n",
      "Try using .loc[row_indexer,col_indexer] = value instead\n",
      "\n",
      "See the caveats in the documentation: https://pandas.pydata.org/pandas-docs/stable/user_guide/indexing.html#returning-a-view-versus-a-copy\n",
      "  self.obj[key] = value\n"
     ]
    },
    {
     "name": "stdout",
     "output_type": "stream",
     "text": [
      "第 7 轮验证结束，耗时 1.8062412819999736 秒\n",
      "第 7 轮合并标注句子开始\n",
      "第 7 轮合并标注句子结束，耗时 0.04 秒\n",
      "第 7 轮规则最终标签标注开始\n",
      "第 7 轮规则最终标签标注结束，耗时 46.28 秒\n",
      "----------- 第 7 轮挖掘用时 58.49202694500002 秒 ----------- \n",
      "第 8 轮规则挖掘开始\n",
      "第 8 轮规则挖掘结束，耗时： 0.63 秒，挖掘出 638 条规则\n",
      "第 8 轮删除了 570 条规则 \n",
      "第 8 轮规则标注开始\n",
      "第 8 轮规则标注结束，正规则 42 条，负规则 26 条，耗时 10.53 秒\n",
      "第 8 轮硬匹配开始\n",
      "第 8 轮硬匹配结束，耗时 0.48 秒，硬匹配数量 4 条，正例 0 条，负例 4 条\n",
      "第 8 轮验证开始\n"
     ]
    },
    {
     "name": "stderr",
     "output_type": "stream",
     "text": [
      "/home/XuHaoshuai/miniconda3/envs/humanie_ipm/lib/python3.9/site-packages/pandas/core/indexing.py:1667: SettingWithCopyWarning: \n",
      "A value is trying to be set on a copy of a slice from a DataFrame.\n",
      "Try using .loc[row_indexer,col_indexer] = value instead\n",
      "\n",
      "See the caveats in the documentation: https://pandas.pydata.org/pandas-docs/stable/user_guide/indexing.html#returning-a-view-versus-a-copy\n",
      "  self.obj[key] = value\n"
     ]
    },
    {
     "name": "stdout",
     "output_type": "stream",
     "text": [
      "第 8 轮验证结束，耗时 1.9104823679999754 秒\n",
      "第 8 轮合并标注句子开始\n",
      "第 8 轮合并标注句子结束，耗时 0.04 秒\n",
      "第 8 轮规则最终标签标注开始\n",
      "第 8 轮规则最终标签标注结束，耗时 53.60 秒\n",
      "----------- 第 8 轮挖掘用时 67.70288706099996 秒 ----------- \n",
      "第 9 轮规则挖掘开始\n",
      "第 9 轮规则挖掘结束，耗时： 0.66 秒，挖掘出 701 条规则\n",
      "第 9 轮删除了 638 条规则 \n",
      "第 9 轮规则标注开始\n",
      "第 9 轮规则标注结束，正规则 49 条，负规则 14 条，耗时 9.76 秒\n",
      "第 9 轮硬匹配开始\n",
      "第 9 轮硬匹配结束，耗时 0.46 秒，硬匹配数量 0 条，正例 0 条，负例 0 条\n",
      "第 9 轮验证开始\n"
     ]
    },
    {
     "ename": "ValueError",
     "evalue": "Expected 2D array, got 1D array instead:\narray=[].\nReshape your data either using array.reshape(-1, 1) if your data has a single feature or array.reshape(1, -1) if it contains a single sample.",
     "output_type": "error",
     "traceback": [
      "\u001b[0;31m---------------------------------------------------------------------------\u001b[0m",
      "\u001b[0;31mValueError\u001b[0m                                Traceback (most recent call last)",
      "\u001b[0;32m/tmp/ipykernel_74174/2804930492.py\u001b[0m in \u001b[0;36m<module>\u001b[0;34m\u001b[0m\n\u001b[1;32m     33\u001b[0m             \u001b[0mprint\u001b[0m\u001b[0;34m(\u001b[0m\u001b[0;34m\"没有能匹配的结果，停止迭代\"\u001b[0m\u001b[0;34m)\u001b[0m\u001b[0;34m\u001b[0m\u001b[0;34m\u001b[0m\u001b[0m\n\u001b[1;32m     34\u001b[0m             \u001b[0;32mbreak\u001b[0m\u001b[0;34m\u001b[0m\u001b[0;34m\u001b[0m\u001b[0m\n\u001b[0;32m---> 35\u001b[0;31m         \u001b[0mverifier\u001b[0m\u001b[0;34m(\u001b[0m\u001b[0mrelation_filepath\u001b[0m\u001b[0;34m,\u001b[0m \u001b[0miter_num\u001b[0m\u001b[0;34m)\u001b[0m\u001b[0;34m\u001b[0m\u001b[0;34m\u001b[0m\u001b[0m\n\u001b[0m\u001b[1;32m     36\u001b[0m         \u001b[0mmerge_labeled_sent\u001b[0m\u001b[0;34m(\u001b[0m\u001b[0mrelation_filepath\u001b[0m\u001b[0;34m,\u001b[0m \u001b[0miter_num\u001b[0m\u001b[0;34m)\u001b[0m\u001b[0;34m\u001b[0m\u001b[0;34m\u001b[0m\u001b[0m\n\u001b[1;32m     37\u001b[0m         \u001b[0mfinal_label\u001b[0m\u001b[0;34m(\u001b[0m\u001b[0mrelation_filepath\u001b[0m\u001b[0;34m,\u001b[0m \u001b[0miter_num\u001b[0m\u001b[0;34m)\u001b[0m\u001b[0;34m\u001b[0m\u001b[0;34m\u001b[0m\u001b[0m\n",
      "\u001b[0;32m~/Project/HumanIE-IPM-experiment-2.0/src/util/verify_hard_singlesvm.py\u001b[0m in \u001b[0;36mverifier\u001b[0;34m(relation_filepath, iter_num)\u001b[0m\n\u001b[1;32m     15\u001b[0m     \u001b[0mhard_matched\u001b[0m \u001b[0;34m=\u001b[0m \u001b[0mhard_match_result\u001b[0m\u001b[0;34m[\u001b[0m\u001b[0mhard_match_result\u001b[0m\u001b[0;34m[\u001b[0m\u001b[0;34m'hard_match'\u001b[0m\u001b[0;34m]\u001b[0m \u001b[0;34m!=\u001b[0m \u001b[0;36m0\u001b[0m\u001b[0;34m]\u001b[0m\u001b[0;34m\u001b[0m\u001b[0;34m\u001b[0m\u001b[0m\n\u001b[1;32m     16\u001b[0m \u001b[0;34m\u001b[0m\u001b[0m\n\u001b[0;32m---> 17\u001b[0;31m     \u001b[0mhard_matched\u001b[0m\u001b[0;34m.\u001b[0m\u001b[0mloc\u001b[0m\u001b[0;34m[\u001b[0m\u001b[0;34m:\u001b[0m\u001b[0;34m,\u001b[0m \u001b[0;34m'human'\u001b[0m\u001b[0;34m]\u001b[0m \u001b[0;34m=\u001b[0m \u001b[0mmodel_predict\u001b[0m\u001b[0;34m(\u001b[0m\u001b[0mhard_matched\u001b[0m\u001b[0;34m,\u001b[0m \u001b[0mverify_model\u001b[0m\u001b[0;34m)\u001b[0m\u001b[0;34m\u001b[0m\u001b[0;34m\u001b[0m\u001b[0m\n\u001b[0m\u001b[1;32m     18\u001b[0m     \u001b[0mhard_matched\u001b[0m\u001b[0;34m.\u001b[0m\u001b[0mto_csv\u001b[0m\u001b[0;34m(\u001b[0m\u001b[0mrelation_filepath\u001b[0m \u001b[0;34m+\u001b[0m \u001b[0;34m'6_verify_result/'\u001b[0m \u001b[0;34m+\u001b[0m \u001b[0mstr\u001b[0m\u001b[0;34m(\u001b[0m\u001b[0miter_num\u001b[0m\u001b[0;34m)\u001b[0m \u001b[0;34m+\u001b[0m \u001b[0;34m'.csv'\u001b[0m\u001b[0;34m,\u001b[0m \u001b[0mcolumns\u001b[0m\u001b[0;34m=\u001b[0m\u001b[0;34m[\u001b[0m\u001b[0;34m'entity1'\u001b[0m\u001b[0;34m,\u001b[0m \u001b[0;34m'entity2'\u001b[0m\u001b[0;34m,\u001b[0m \u001b[0;34m'sent'\u001b[0m\u001b[0;34m,\u001b[0m \u001b[0;34m'processed_sent'\u001b[0m\u001b[0;34m,\u001b[0m \u001b[0;34m'human'\u001b[0m\u001b[0;34m]\u001b[0m\u001b[0;34m)\u001b[0m\u001b[0;34m\u001b[0m\u001b[0;34m\u001b[0m\u001b[0m\n\u001b[1;32m     19\u001b[0m \u001b[0;34m\u001b[0m\u001b[0m\n",
      "\u001b[0;32m~/Project/HumanIE-IPM-experiment-2.0/src/util/verify_hard_singlesvm.py\u001b[0m in \u001b[0;36mmodel_predict\u001b[0;34m(sent_df, verify_model)\u001b[0m\n\u001b[1;32m     53\u001b[0m \u001b[0;32mdef\u001b[0m \u001b[0mmodel_predict\u001b[0m\u001b[0;34m(\u001b[0m\u001b[0msent_df\u001b[0m\u001b[0;34m:\u001b[0m\u001b[0mpd\u001b[0m\u001b[0;34m.\u001b[0m\u001b[0mDataFrame\u001b[0m\u001b[0;34m,\u001b[0m \u001b[0mverify_model\u001b[0m\u001b[0;34m:\u001b[0m\u001b[0msvm\u001b[0m\u001b[0;34m.\u001b[0m\u001b[0mSVC\u001b[0m\u001b[0;34m)\u001b[0m\u001b[0;34m:\u001b[0m\u001b[0;34m\u001b[0m\u001b[0;34m\u001b[0m\u001b[0m\n\u001b[1;32m     54\u001b[0m     \u001b[0mX_pred\u001b[0m \u001b[0;34m=\u001b[0m \u001b[0msent2vec\u001b[0m\u001b[0;34m(\u001b[0m\u001b[0msent2wordseq\u001b[0m\u001b[0;34m(\u001b[0m\u001b[0msent_df\u001b[0m\u001b[0;34m)\u001b[0m\u001b[0;34m)\u001b[0m\u001b[0;34m\u001b[0m\u001b[0;34m\u001b[0m\u001b[0m\n\u001b[0;32m---> 55\u001b[0;31m     \u001b[0my\u001b[0m \u001b[0;34m=\u001b[0m \u001b[0mverify_model\u001b[0m\u001b[0;34m.\u001b[0m\u001b[0mpredict\u001b[0m\u001b[0;34m(\u001b[0m\u001b[0mX_pred\u001b[0m\u001b[0;34m)\u001b[0m\u001b[0;34m\u001b[0m\u001b[0;34m\u001b[0m\u001b[0m\n\u001b[0m\u001b[1;32m     56\u001b[0m     \u001b[0;32mreturn\u001b[0m \u001b[0my\u001b[0m\u001b[0;34m\u001b[0m\u001b[0;34m\u001b[0m\u001b[0m\n\u001b[1;32m     57\u001b[0m \u001b[0;34m\u001b[0m\u001b[0m\n",
      "\u001b[0;32m~/miniconda3/envs/humanie_ipm/lib/python3.9/site-packages/sklearn/svm/_base.py\u001b[0m in \u001b[0;36mpredict\u001b[0;34m(self, X)\u001b[0m\n\u001b[1;32m    789\u001b[0m             \u001b[0my\u001b[0m \u001b[0;34m=\u001b[0m \u001b[0mnp\u001b[0m\u001b[0;34m.\u001b[0m\u001b[0margmax\u001b[0m\u001b[0;34m(\u001b[0m\u001b[0mself\u001b[0m\u001b[0;34m.\u001b[0m\u001b[0mdecision_function\u001b[0m\u001b[0;34m(\u001b[0m\u001b[0mX\u001b[0m\u001b[0;34m)\u001b[0m\u001b[0;34m,\u001b[0m \u001b[0maxis\u001b[0m\u001b[0;34m=\u001b[0m\u001b[0;36m1\u001b[0m\u001b[0;34m)\u001b[0m\u001b[0;34m\u001b[0m\u001b[0;34m\u001b[0m\u001b[0m\n\u001b[1;32m    790\u001b[0m         \u001b[0;32melse\u001b[0m\u001b[0;34m:\u001b[0m\u001b[0;34m\u001b[0m\u001b[0;34m\u001b[0m\u001b[0m\n\u001b[0;32m--> 791\u001b[0;31m             \u001b[0my\u001b[0m \u001b[0;34m=\u001b[0m \u001b[0msuper\u001b[0m\u001b[0;34m(\u001b[0m\u001b[0;34m)\u001b[0m\u001b[0;34m.\u001b[0m\u001b[0mpredict\u001b[0m\u001b[0;34m(\u001b[0m\u001b[0mX\u001b[0m\u001b[0;34m)\u001b[0m\u001b[0;34m\u001b[0m\u001b[0;34m\u001b[0m\u001b[0m\n\u001b[0m\u001b[1;32m    792\u001b[0m         \u001b[0;32mreturn\u001b[0m \u001b[0mself\u001b[0m\u001b[0;34m.\u001b[0m\u001b[0mclasses_\u001b[0m\u001b[0;34m.\u001b[0m\u001b[0mtake\u001b[0m\u001b[0;34m(\u001b[0m\u001b[0mnp\u001b[0m\u001b[0;34m.\u001b[0m\u001b[0masarray\u001b[0m\u001b[0;34m(\u001b[0m\u001b[0my\u001b[0m\u001b[0;34m,\u001b[0m \u001b[0mdtype\u001b[0m\u001b[0;34m=\u001b[0m\u001b[0mnp\u001b[0m\u001b[0;34m.\u001b[0m\u001b[0mintp\u001b[0m\u001b[0;34m)\u001b[0m\u001b[0;34m)\u001b[0m\u001b[0;34m\u001b[0m\u001b[0;34m\u001b[0m\u001b[0m\n\u001b[1;32m    793\u001b[0m \u001b[0;34m\u001b[0m\u001b[0m\n",
      "\u001b[0;32m~/miniconda3/envs/humanie_ipm/lib/python3.9/site-packages/sklearn/svm/_base.py\u001b[0m in \u001b[0;36mpredict\u001b[0;34m(self, X)\u001b[0m\n\u001b[1;32m    412\u001b[0m             \u001b[0mThe\u001b[0m \u001b[0mpredicted\u001b[0m \u001b[0mvalues\u001b[0m\u001b[0;34m.\u001b[0m\u001b[0;34m\u001b[0m\u001b[0;34m\u001b[0m\u001b[0m\n\u001b[1;32m    413\u001b[0m         \"\"\"\n\u001b[0;32m--> 414\u001b[0;31m         \u001b[0mX\u001b[0m \u001b[0;34m=\u001b[0m \u001b[0mself\u001b[0m\u001b[0;34m.\u001b[0m\u001b[0m_validate_for_predict\u001b[0m\u001b[0;34m(\u001b[0m\u001b[0mX\u001b[0m\u001b[0;34m)\u001b[0m\u001b[0;34m\u001b[0m\u001b[0;34m\u001b[0m\u001b[0m\n\u001b[0m\u001b[1;32m    415\u001b[0m         \u001b[0mpredict\u001b[0m \u001b[0;34m=\u001b[0m \u001b[0mself\u001b[0m\u001b[0;34m.\u001b[0m\u001b[0m_sparse_predict\u001b[0m \u001b[0;32mif\u001b[0m \u001b[0mself\u001b[0m\u001b[0;34m.\u001b[0m\u001b[0m_sparse\u001b[0m \u001b[0;32melse\u001b[0m \u001b[0mself\u001b[0m\u001b[0;34m.\u001b[0m\u001b[0m_dense_predict\u001b[0m\u001b[0;34m\u001b[0m\u001b[0;34m\u001b[0m\u001b[0m\n\u001b[1;32m    416\u001b[0m         \u001b[0;32mreturn\u001b[0m \u001b[0mpredict\u001b[0m\u001b[0;34m(\u001b[0m\u001b[0mX\u001b[0m\u001b[0;34m)\u001b[0m\u001b[0;34m\u001b[0m\u001b[0;34m\u001b[0m\u001b[0m\n",
      "\u001b[0;32m~/miniconda3/envs/humanie_ipm/lib/python3.9/site-packages/sklearn/svm/_base.py\u001b[0m in \u001b[0;36m_validate_for_predict\u001b[0;34m(self, X)\u001b[0m\n\u001b[1;32m    590\u001b[0m \u001b[0;34m\u001b[0m\u001b[0m\n\u001b[1;32m    591\u001b[0m         \u001b[0;32mif\u001b[0m \u001b[0;32mnot\u001b[0m \u001b[0mcallable\u001b[0m\u001b[0;34m(\u001b[0m\u001b[0mself\u001b[0m\u001b[0;34m.\u001b[0m\u001b[0mkernel\u001b[0m\u001b[0;34m)\u001b[0m\u001b[0;34m:\u001b[0m\u001b[0;34m\u001b[0m\u001b[0;34m\u001b[0m\u001b[0m\n\u001b[0;32m--> 592\u001b[0;31m             X = self._validate_data(\n\u001b[0m\u001b[1;32m    593\u001b[0m                 \u001b[0mX\u001b[0m\u001b[0;34m,\u001b[0m\u001b[0;34m\u001b[0m\u001b[0;34m\u001b[0m\u001b[0m\n\u001b[1;32m    594\u001b[0m                 \u001b[0maccept_sparse\u001b[0m\u001b[0;34m=\u001b[0m\u001b[0;34m\"csr\"\u001b[0m\u001b[0;34m,\u001b[0m\u001b[0;34m\u001b[0m\u001b[0;34m\u001b[0m\u001b[0m\n",
      "\u001b[0;32m~/miniconda3/envs/humanie_ipm/lib/python3.9/site-packages/sklearn/base.py\u001b[0m in \u001b[0;36m_validate_data\u001b[0;34m(self, X, y, reset, validate_separately, **check_params)\u001b[0m\n\u001b[1;32m    559\u001b[0m             \u001b[0;32mraise\u001b[0m \u001b[0mValueError\u001b[0m\u001b[0;34m(\u001b[0m\u001b[0;34m\"Validation should be done on X, y or both.\"\u001b[0m\u001b[0;34m)\u001b[0m\u001b[0;34m\u001b[0m\u001b[0;34m\u001b[0m\u001b[0m\n\u001b[1;32m    560\u001b[0m         \u001b[0;32melif\u001b[0m \u001b[0;32mnot\u001b[0m \u001b[0mno_val_X\u001b[0m \u001b[0;32mand\u001b[0m \u001b[0mno_val_y\u001b[0m\u001b[0;34m:\u001b[0m\u001b[0;34m\u001b[0m\u001b[0;34m\u001b[0m\u001b[0m\n\u001b[0;32m--> 561\u001b[0;31m             \u001b[0mX\u001b[0m \u001b[0;34m=\u001b[0m \u001b[0mcheck_array\u001b[0m\u001b[0;34m(\u001b[0m\u001b[0mX\u001b[0m\u001b[0;34m,\u001b[0m \u001b[0;34m**\u001b[0m\u001b[0mcheck_params\u001b[0m\u001b[0;34m)\u001b[0m\u001b[0;34m\u001b[0m\u001b[0;34m\u001b[0m\u001b[0m\n\u001b[0m\u001b[1;32m    562\u001b[0m             \u001b[0mout\u001b[0m \u001b[0;34m=\u001b[0m \u001b[0mX\u001b[0m\u001b[0;34m\u001b[0m\u001b[0;34m\u001b[0m\u001b[0m\n\u001b[1;32m    563\u001b[0m         \u001b[0;32melif\u001b[0m \u001b[0mno_val_X\u001b[0m \u001b[0;32mand\u001b[0m \u001b[0;32mnot\u001b[0m \u001b[0mno_val_y\u001b[0m\u001b[0;34m:\u001b[0m\u001b[0;34m\u001b[0m\u001b[0;34m\u001b[0m\u001b[0m\n",
      "\u001b[0;32m~/miniconda3/envs/humanie_ipm/lib/python3.9/site-packages/sklearn/utils/validation.py\u001b[0m in \u001b[0;36mcheck_array\u001b[0;34m(array, accept_sparse, accept_large_sparse, dtype, order, copy, force_all_finite, ensure_2d, allow_nd, ensure_min_samples, ensure_min_features, estimator)\u001b[0m\n\u001b[1;32m    759\u001b[0m             \u001b[0;31m# If input is 1D raise error\u001b[0m\u001b[0;34m\u001b[0m\u001b[0;34m\u001b[0m\u001b[0m\n\u001b[1;32m    760\u001b[0m             \u001b[0;32mif\u001b[0m \u001b[0marray\u001b[0m\u001b[0;34m.\u001b[0m\u001b[0mndim\u001b[0m \u001b[0;34m==\u001b[0m \u001b[0;36m1\u001b[0m\u001b[0;34m:\u001b[0m\u001b[0;34m\u001b[0m\u001b[0;34m\u001b[0m\u001b[0m\n\u001b[0;32m--> 761\u001b[0;31m                 raise ValueError(\n\u001b[0m\u001b[1;32m    762\u001b[0m                     \u001b[0;34m\"Expected 2D array, got 1D array instead:\\narray={}.\\n\"\u001b[0m\u001b[0;34m\u001b[0m\u001b[0;34m\u001b[0m\u001b[0m\n\u001b[1;32m    763\u001b[0m                     \u001b[0;34m\"Reshape your data either using array.reshape(-1, 1) if \"\u001b[0m\u001b[0;34m\u001b[0m\u001b[0;34m\u001b[0m\u001b[0m\n",
      "\u001b[0;31mValueError\u001b[0m: Expected 2D array, got 1D array instead:\narray=[].\nReshape your data either using array.reshape(-1, 1) if your data has a single feature or array.reshape(1, -1) if it contains a single sample."
     ]
    }
   ],
   "source": [
    "from util.miner import mine_rule\n",
    "from util.label.original_label import sent_label_rule_oritinal\n",
    "from util.match.hard_matcher import hard_match\n",
    "from util.verify_hard_singlesvm import verifier\n",
    "from util.merge.merge_labeled_sent import merge_labeled_sent\n",
    "from util.label.final_label import final_label\n",
    "from util.rule_deduplication import rule_dedupli\n",
    "import time\n",
    "from caculate import caculate\n",
    "\n",
    "    \n",
    "if __name__ == '__main__':\n",
    "    relation_filepath = \"/home/XuHaoshuai/Project/HumanIE-IPM-experiment-2.0/relation_data/teacher/2/\"\n",
    "    topk = 0\n",
    "    topk_step = 300\n",
    "    minlen = 3\n",
    "    maxlen = 6 \n",
    "    threshold = 0.7\n",
    "\n",
    "\n",
    "    for iter_num in range(1, 11):\n",
    "        topk = iter_num * topk_step\n",
    "        start_time = time.process_time()\n",
    "        mine_rule(relation_filepath, iter_num, 3, 6, topk)\n",
    "        if iter_num >= 2:\n",
    "            to_label_rule_num = rule_dedupli(relation_filepath, iter_num)[0]\n",
    "            if to_label_rule_num == 0:\n",
    "                print(\"没有可挖掘的规则，停止迭代\")\n",
    "                break\n",
    "        sent_label_rule_oritinal(relation_filepath, iter_num)\n",
    "        hard_match_result = hard_match(relation_filepath, iter_num)\n",
    "        if hard_match_result.shape[0] == 0:\n",
    "            print(\"没有能匹配的结果，停止迭代\")\n",
    "            break\n",
    "        verifier(relation_filepath, iter_num)\n",
    "        merge_labeled_sent(relation_filepath, iter_num)\n",
    "        final_label(relation_filepath, iter_num)\n",
    "        end_time = time.process_time()\n",
    "        print(\"----------- 第 \" + str(iter_num) + \" 轮挖掘用时 \" + str(end_time - start_time) + \" 秒 ----------- \")\n",
    "    caculate(relation_filepath)"
   ]
  }
 ],
 "metadata": {
  "interpreter": {
   "hash": "062d8928aa6c74abd7a71009f94b804d3e6473753e91c42ed893a6f7b0e52b17"
  },
  "kernelspec": {
   "display_name": "Python 3.9.7 64-bit ('humanie_ipm': conda)",
   "language": "python",
   "name": "python3"
  },
  "language_info": {
   "codemirror_mode": {
    "name": "ipython",
    "version": 3
   },
   "file_extension": ".py",
   "mimetype": "text/x-python",
   "name": "python",
   "nbconvert_exporter": "python",
   "pygments_lexer": "ipython3",
   "version": "3.9.7"
  },
  "orig_nbformat": 4
 },
 "nbformat": 4,
 "nbformat_minor": 2
}
