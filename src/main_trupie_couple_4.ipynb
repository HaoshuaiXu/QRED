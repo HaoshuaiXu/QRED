{
 "cells": [
  {
   "cell_type": "code",
   "execution_count": 1,
   "metadata": {},
   "outputs": [
    {
     "name": "stdout",
     "output_type": "stream",
     "text": [
      "第 1 轮规则挖掘开始\n",
      "第 1 轮规则挖掘结束，耗时： 0.85 秒，挖掘出 176 条规则\n",
      "第 1 轮规则标注开始\n",
      "第 1 轮规则标注结束，正规则 112 条，负规则 62 条，耗时 47.29 秒\n",
      "第 1 轮硬匹配开始\n",
      "第 1 轮硬匹配结束，耗时 15.26 秒，硬匹配数量 10151 条，正例 4266 条，负例 5885 条\n",
      "第 1 轮验证开始\n"
     ]
    },
    {
     "name": "stderr",
     "output_type": "stream",
     "text": [
      "/home/XuHaoshuai/miniconda3/envs/humanie_ipm/lib/python3.9/site-packages/pandas/core/indexing.py:1667: SettingWithCopyWarning: \n",
      "A value is trying to be set on a copy of a slice from a DataFrame.\n",
      "Try using .loc[row_indexer,col_indexer] = value instead\n",
      "\n",
      "See the caveats in the documentation: https://pandas.pydata.org/pandas-docs/stable/user_guide/indexing.html#returning-a-view-versus-a-copy\n",
      "  self.obj[key] = value\n"
     ]
    },
    {
     "name": "stdout",
     "output_type": "stream",
     "text": [
      "第 1 轮验证结束，耗时 9.550770745999998 秒\n",
      "第 1 轮合并标注句子开始\n",
      "第 1 轮合并标注句子结束，耗时 0.14 秒\n",
      "第 1 轮规则最终标签标注开始\n",
      "第 1 轮规则最终标签标注结束，耗时 481.23 秒\n",
      "----------- 第 1 轮挖掘用时 553.403314506 秒 ----------- \n",
      "第 2 轮规则挖掘开始\n",
      "第 2 轮规则挖掘结束，耗时： 1.77 秒，挖掘出 315 条规则\n",
      "第 2 轮删除了 176 条规则 \n",
      "第 2 轮规则标注开始\n",
      "第 2 轮规则标注结束，正规则 115 条，负规则 24 条，耗时 79.26 秒\n",
      "第 2 轮硬匹配开始\n",
      "第 2 轮硬匹配结束，耗时 2.43 秒，硬匹配数量 630 条，正例 508 条，负例 122 条\n",
      "第 2 轮验证开始\n"
     ]
    },
    {
     "name": "stderr",
     "output_type": "stream",
     "text": [
      "/home/XuHaoshuai/miniconda3/envs/humanie_ipm/lib/python3.9/site-packages/pandas/core/indexing.py:1667: SettingWithCopyWarning: \n",
      "A value is trying to be set on a copy of a slice from a DataFrame.\n",
      "Try using .loc[row_indexer,col_indexer] = value instead\n",
      "\n",
      "See the caveats in the documentation: https://pandas.pydata.org/pandas-docs/stable/user_guide/indexing.html#returning-a-view-versus-a-copy\n",
      "  self.obj[key] = value\n"
     ]
    },
    {
     "name": "stdout",
     "output_type": "stream",
     "text": [
      "第 2 轮验证结束，耗时 9.639355656999896 秒\n",
      "第 2 轮合并标注句子开始\n",
      "第 2 轮合并标注句子结束，耗时 0.14 秒\n",
      "第 2 轮规则最终标签标注开始\n",
      "第 2 轮规则最终标签标注结束，耗时 457.37 秒\n",
      "----------- 第 2 轮挖掘用时 549.8180635009999 秒 ----------- \n",
      "第 3 轮规则挖掘开始\n",
      "第 3 轮规则挖掘结束，耗时： 1.92 秒，挖掘出 450 条规则\n",
      "第 3 轮删除了 315 条规则 \n",
      "第 3 轮规则标注开始\n",
      "第 3 轮规则标注结束，正规则 98 条，负规则 35 条，耗时 78.40 秒\n",
      "第 3 轮硬匹配开始\n",
      "第 3 轮硬匹配结束，耗时 1.73 秒，硬匹配数量 415 条，正例 270 条，负例 145 条\n",
      "第 3 轮验证开始\n"
     ]
    },
    {
     "name": "stderr",
     "output_type": "stream",
     "text": [
      "/home/XuHaoshuai/miniconda3/envs/humanie_ipm/lib/python3.9/site-packages/pandas/core/indexing.py:1667: SettingWithCopyWarning: \n",
      "A value is trying to be set on a copy of a slice from a DataFrame.\n",
      "Try using .loc[row_indexer,col_indexer] = value instead\n",
      "\n",
      "See the caveats in the documentation: https://pandas.pydata.org/pandas-docs/stable/user_guide/indexing.html#returning-a-view-versus-a-copy\n",
      "  self.obj[key] = value\n"
     ]
    },
    {
     "name": "stdout",
     "output_type": "stream",
     "text": [
      "第 3 轮验证结束，耗时 11.058637686000111 秒\n",
      "第 3 轮合并标注句子开始\n",
      "第 3 轮合并标注句子结束，耗时 0.14 秒\n",
      "第 3 轮规则最终标签标注开始\n",
      "第 3 轮规则最终标签标注结束，耗时 452.80 秒\n",
      "----------- 第 3 轮挖掘用时 545.2116927450002 秒 ----------- \n",
      "第 4 轮规则挖掘开始\n",
      "第 4 轮规则挖掘结束，耗时： 2.17 秒，挖掘出 576 条规则\n",
      "第 4 轮删除了 450 条规则 \n",
      "第 4 轮规则标注开始\n",
      "第 4 轮规则标注结束，正规则 64 条，负规则 61 条，耗时 73.78 秒\n",
      "第 4 轮硬匹配开始\n",
      "第 4 轮硬匹配结束，耗时 1.32 秒，硬匹配数量 235 条，正例 149 条，负例 86 条\n",
      "第 4 轮验证开始\n"
     ]
    },
    {
     "name": "stderr",
     "output_type": "stream",
     "text": [
      "/home/XuHaoshuai/miniconda3/envs/humanie_ipm/lib/python3.9/site-packages/pandas/core/indexing.py:1667: SettingWithCopyWarning: \n",
      "A value is trying to be set on a copy of a slice from a DataFrame.\n",
      "Try using .loc[row_indexer,col_indexer] = value instead\n",
      "\n",
      "See the caveats in the documentation: https://pandas.pydata.org/pandas-docs/stable/user_guide/indexing.html#returning-a-view-versus-a-copy\n",
      "  self.obj[key] = value\n"
     ]
    },
    {
     "name": "stdout",
     "output_type": "stream",
     "text": [
      "第 4 轮验证结束，耗时 11.80867377200002 秒\n",
      "第 4 轮合并标注句子开始\n",
      "第 4 轮合并标注句子结束，耗时 0.14 秒\n",
      "第 4 轮规则最终标签标注开始\n",
      "第 4 轮规则最终标签标注结束，耗时 440.15 秒\n",
      "----------- 第 4 轮挖掘用时 528.747829856 秒 ----------- \n",
      "第 5 轮规则挖掘开始\n",
      "第 5 轮规则挖掘结束，耗时： 2.07 秒，挖掘出 702 条规则\n",
      "第 5 轮删除了 576 条规则 \n",
      "第 5 轮规则标注开始\n",
      "第 5 轮规则标注结束，正规则 53 条，负规则 72 条，耗时 72.86 秒\n",
      "第 5 轮硬匹配开始\n",
      "第 5 轮硬匹配结束，耗时 1.08 秒，硬匹配数量 156 条，正例 101 条，负例 55 条\n",
      "第 5 轮验证开始\n"
     ]
    },
    {
     "name": "stderr",
     "output_type": "stream",
     "text": [
      "/home/XuHaoshuai/miniconda3/envs/humanie_ipm/lib/python3.9/site-packages/pandas/core/indexing.py:1667: SettingWithCopyWarning: \n",
      "A value is trying to be set on a copy of a slice from a DataFrame.\n",
      "Try using .loc[row_indexer,col_indexer] = value instead\n",
      "\n",
      "See the caveats in the documentation: https://pandas.pydata.org/pandas-docs/stable/user_guide/indexing.html#returning-a-view-versus-a-copy\n",
      "  self.obj[key] = value\n"
     ]
    },
    {
     "name": "stdout",
     "output_type": "stream",
     "text": [
      "第 5 轮验证结束，耗时 12.115925353999955 秒\n",
      "第 5 轮合并标注句子开始\n",
      "第 5 轮合并标注句子结束，耗时 0.14 秒\n",
      "第 5 轮规则最终标签标注开始\n",
      "第 5 轮规则最终标签标注结束，耗时 428.68 秒\n",
      "----------- 第 5 轮挖掘用时 516.3448030530003 秒 ----------- \n",
      "第 6 轮规则挖掘开始\n",
      "第 6 轮规则挖掘结束，耗时： 2.20 秒，挖掘出 769 条规则\n",
      "第 6 轮删除了 702 条规则 \n",
      "第 6 轮规则标注开始\n",
      "第 6 轮规则标注结束，正规则 5 条，负规则 62 条，耗时 38.92 秒\n",
      "第 6 轮硬匹配开始\n",
      "第 6 轮硬匹配结束，耗时 0.52 秒，硬匹配数量 12 条，正例 11 条，负例 1 条\n",
      "第 6 轮验证开始\n"
     ]
    },
    {
     "name": "stderr",
     "output_type": "stream",
     "text": [
      "/home/XuHaoshuai/miniconda3/envs/humanie_ipm/lib/python3.9/site-packages/pandas/core/indexing.py:1667: SettingWithCopyWarning: \n",
      "A value is trying to be set on a copy of a slice from a DataFrame.\n",
      "Try using .loc[row_indexer,col_indexer] = value instead\n",
      "\n",
      "See the caveats in the documentation: https://pandas.pydata.org/pandas-docs/stable/user_guide/indexing.html#returning-a-view-versus-a-copy\n",
      "  self.obj[key] = value\n"
     ]
    },
    {
     "name": "stdout",
     "output_type": "stream",
     "text": [
      "第 6 轮验证结束，耗时 13.055698773000131 秒\n",
      "第 6 轮合并标注句子开始\n",
      "第 6 轮合并标注句子结束，耗时 0.14 秒\n",
      "第 6 轮规则最终标签标注开始\n",
      "第 6 轮规则最终标签标注结束，耗时 252.89 秒\n",
      "----------- 第 6 轮挖掘用时 308.06465409400016 秒 ----------- \n",
      "第 7 轮规则挖掘开始\n",
      "第 7 轮规则挖掘结束，耗时： 2.39 秒，挖掘出 814 条规则\n",
      "第 7 轮删除了 769 条规则 \n",
      "第 7 轮规则标注开始\n",
      "第 7 轮规则标注结束，正规则 4 条，负规则 41 条，耗时 27.39 秒\n",
      "第 7 轮硬匹配开始\n",
      "第 7 轮硬匹配结束，耗时 0.40 秒，硬匹配数量 1 条，正例 1 条，负例 0 条\n",
      "第 7 轮验证开始\n"
     ]
    },
    {
     "name": "stderr",
     "output_type": "stream",
     "text": [
      "/home/XuHaoshuai/miniconda3/envs/humanie_ipm/lib/python3.9/site-packages/pandas/core/indexing.py:1667: SettingWithCopyWarning: \n",
      "A value is trying to be set on a copy of a slice from a DataFrame.\n",
      "Try using .loc[row_indexer,col_indexer] = value instead\n",
      "\n",
      "See the caveats in the documentation: https://pandas.pydata.org/pandas-docs/stable/user_guide/indexing.html#returning-a-view-versus-a-copy\n",
      "  self.obj[key] = value\n"
     ]
    },
    {
     "name": "stdout",
     "output_type": "stream",
     "text": [
      "第 7 轮验证结束，耗时 13.915416647000256 秒\n",
      "第 7 轮合并标注句子开始\n",
      "第 7 轮合并标注句子结束，耗时 0.14 秒\n",
      "第 7 轮规则最终标签标注开始\n",
      "第 7 轮规则最终标签标注结束，耗时 163.52 秒\n",
      "----------- 第 7 轮挖掘用时 208.13496272600014 秒 ----------- \n",
      "第 8 轮规则挖掘开始\n",
      "第 8 轮规则挖掘结束，耗时： 2.48 秒，挖掘出 905 条规则\n",
      "第 8 轮删除了 814 条规则 \n",
      "第 8 轮规则标注开始\n",
      "第 8 轮规则标注结束，正规则 21 条，负规则 70 条，耗时 54.47 秒\n",
      "第 8 轮硬匹配开始\n",
      "第 8 轮硬匹配结束，耗时 0.71 秒，硬匹配数量 69 条，正例 29 条，负例 40 条\n",
      "第 8 轮验证开始\n"
     ]
    },
    {
     "name": "stderr",
     "output_type": "stream",
     "text": [
      "/home/XuHaoshuai/miniconda3/envs/humanie_ipm/lib/python3.9/site-packages/pandas/core/indexing.py:1667: SettingWithCopyWarning: \n",
      "A value is trying to be set on a copy of a slice from a DataFrame.\n",
      "Try using .loc[row_indexer,col_indexer] = value instead\n",
      "\n",
      "See the caveats in the documentation: https://pandas.pydata.org/pandas-docs/stable/user_guide/indexing.html#returning-a-view-versus-a-copy\n",
      "  self.obj[key] = value\n"
     ]
    },
    {
     "name": "stdout",
     "output_type": "stream",
     "text": [
      "第 8 轮验证结束，耗时 14.386086531000274 秒\n",
      "第 8 轮合并标注句子开始\n",
      "第 8 轮合并标注句子结束，耗时 0.14 秒\n",
      "第 8 轮规则最终标签标注开始\n",
      "第 8 轮规则最终标签标注结束，耗时 307.22 秒\n",
      "----------- 第 8 轮挖掘用时 379.23466249800003 秒 ----------- \n",
      "第 9 轮规则挖掘开始\n",
      "第 9 轮规则挖掘结束，耗时： 2.51 秒，挖掘出 934 条规则\n",
      "第 9 轮删除了 905 条规则 \n",
      "第 9 轮规则标注开始\n",
      "第 9 轮规则标注结束，正规则 7 条，负规则 22 条，耗时 17.09 秒\n",
      "第 9 轮硬匹配开始\n",
      "第 9 轮硬匹配结束，耗时 0.26 秒，硬匹配数量 5 条，正例 5 条，负例 0 条\n",
      "第 9 轮验证开始\n"
     ]
    },
    {
     "name": "stderr",
     "output_type": "stream",
     "text": [
      "/home/XuHaoshuai/miniconda3/envs/humanie_ipm/lib/python3.9/site-packages/pandas/core/indexing.py:1667: SettingWithCopyWarning: \n",
      "A value is trying to be set on a copy of a slice from a DataFrame.\n",
      "Try using .loc[row_indexer,col_indexer] = value instead\n",
      "\n",
      "See the caveats in the documentation: https://pandas.pydata.org/pandas-docs/stable/user_guide/indexing.html#returning-a-view-versus-a-copy\n",
      "  self.obj[key] = value\n"
     ]
    },
    {
     "name": "stdout",
     "output_type": "stream",
     "text": [
      "第 9 轮验证结束，耗时 13.836577253999621 秒\n",
      "第 9 轮合并标注句子开始\n",
      "第 9 轮合并标注句子结束，耗时 0.13 秒\n",
      "第 9 轮规则最终标签标注开始\n",
      "第 9 轮规则最终标签标注结束，耗时 102.30 秒\n",
      "----------- 第 9 轮挖掘用时 136.32535853700028 秒 ----------- \n",
      "第 10 轮规则挖掘开始\n",
      "第 10 轮规则挖掘结束，耗时： 2.76 秒，挖掘出 1002 条规则\n",
      "第 10 轮删除了 934 条规则 \n",
      "第 10 轮规则标注开始\n",
      "第 10 轮规则标注结束，正规则 31 条，负规则 37 条，耗时 39.23 秒\n",
      "第 10 轮硬匹配开始\n",
      "第 10 轮硬匹配结束，耗时 0.51 秒，硬匹配数量 46 条，正例 34 条，负例 12 条\n",
      "第 10 轮验证开始\n"
     ]
    },
    {
     "name": "stderr",
     "output_type": "stream",
     "text": [
      "/home/XuHaoshuai/miniconda3/envs/humanie_ipm/lib/python3.9/site-packages/pandas/core/indexing.py:1667: SettingWithCopyWarning: \n",
      "A value is trying to be set on a copy of a slice from a DataFrame.\n",
      "Try using .loc[row_indexer,col_indexer] = value instead\n",
      "\n",
      "See the caveats in the documentation: https://pandas.pydata.org/pandas-docs/stable/user_guide/indexing.html#returning-a-view-versus-a-copy\n",
      "  self.obj[key] = value\n"
     ]
    },
    {
     "name": "stdout",
     "output_type": "stream",
     "text": [
      "第 10 轮验证结束，耗时 13.531707634999748 秒\n",
      "第 10 轮合并标注句子开始\n",
      "第 10 轮合并标注句子结束，耗时 0.14 秒\n",
      "第 10 轮规则最终标签标注开始\n",
      "第 10 轮规则最终标签标注结束，耗时 242.42 秒\n",
      "----------- 第 10 轮挖掘用时 298.8624034870004 秒 ----------- \n"
     ]
    }
   ],
   "source": [
    "from util.miner import mine_rule\n",
    "from util.label.original_label import sent_label_rule_oritinal\n",
    "from util.match.hard_matcher import hard_match\n",
    "from util.verify_hard_singlesvm import verifier\n",
    "from util.merge.merge_labeled_sent import merge_labeled_sent\n",
    "from util.label.final_label import final_label\n",
    "from util.rule_deduplication import rule_dedupli\n",
    "import time\n",
    "from caculate import caculate\n",
    "\n",
    "    \n",
    "if __name__ == '__main__':\n",
    "    relation_filepath = \"/home/XuHaoshuai/Project/HumanIE-IPM-experiment-2.0/relation_data/couple/4/\"\n",
    "    topk = 0\n",
    "    topk_step = 300\n",
    "    minlen = 3\n",
    "    maxlen = 6 \n",
    "    threshold = 0.7\n",
    "\n",
    "\n",
    "    for iter_num in range(1, 11):\n",
    "        topk = iter_num * topk_step\n",
    "        start_time = time.process_time()\n",
    "        mine_rule(relation_filepath, iter_num, 3, 6, topk)\n",
    "        if iter_num >= 2:\n",
    "            to_label_rule_num = rule_dedupli(relation_filepath, iter_num)[0]\n",
    "            if to_label_rule_num == 0:\n",
    "                print(\"没有可挖掘的规则，停止迭代\")\n",
    "                break\n",
    "        sent_label_rule_oritinal(relation_filepath, iter_num)\n",
    "        hard_match(relation_filepath, iter_num)\n",
    "        verifier(relation_filepath, iter_num)\n",
    "        merge_labeled_sent(relation_filepath, iter_num)\n",
    "        final_label(relation_filepath, iter_num)\n",
    "        end_time = time.process_time()\n",
    "        print(\"----------- 第 \" + str(iter_num) + \" 轮挖掘用时 \" + str(end_time - start_time) + \" 秒 ----------- \")\n",
    "    caculate(relation_filepath)"
   ]
  }
 ],
 "metadata": {
  "interpreter": {
   "hash": "062d8928aa6c74abd7a71009f94b804d3e6473753e91c42ed893a6f7b0e52b17"
  },
  "kernelspec": {
   "display_name": "Python 3.9.7 64-bit ('humanie_ipm': conda)",
   "language": "python",
   "name": "python3"
  },
  "language_info": {
   "codemirror_mode": {
    "name": "ipython",
    "version": 3
   },
   "file_extension": ".py",
   "mimetype": "text/x-python",
   "name": "python",
   "nbconvert_exporter": "python",
   "pygments_lexer": "ipython3",
   "version": "3.9.7"
  },
  "orig_nbformat": 4
 },
 "nbformat": 4,
 "nbformat_minor": 2
}
