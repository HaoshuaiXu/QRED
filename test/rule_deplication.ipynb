{
 "cells": [
  {
   "cell_type": "code",
   "execution_count": 6,
   "metadata": {},
   "outputs": [],
   "source": [
    "import pandas as pd\n",
    "\n",
    "to_label = pd.read_csv(\"/Users/xuhaoshuai/Project/HumanIE-IPM-experiment-2.0/relation_data/brother/2_rule_to_label/2.csv\")\n",
    "labeled = pd.read_csv(\"/Users/xuhaoshuai/Project/HumanIE-IPM-experiment-2.0/relation_data/brother/7_final_label_rule/1.csv\")\n",
    "for index, row in to_label.iterrows():\n",
    "    if row['rule'] in labeled['rule'].tolist():\n",
    "        to_label.drop(index=index, inplace=True)"
   ]
  }
 ],
 "metadata": {
  "interpreter": {
   "hash": "b0fa6594d8f4cbf19f97940f81e996739fb7646882a419484c72d19e05852a7e"
  },
  "kernelspec": {
   "display_name": "Python 3.9.6 64-bit",
   "language": "python",
   "name": "python3"
  },
  "language_info": {
   "codemirror_mode": {
    "name": "ipython",
    "version": 3
   },
   "file_extension": ".py",
   "mimetype": "text/x-python",
   "name": "python",
   "nbconvert_exporter": "python",
   "pygments_lexer": "ipython3",
   "version": "3.9.6"
  },
  "orig_nbformat": 4
 },
 "nbformat": 4,
 "nbformat_minor": 2
}
